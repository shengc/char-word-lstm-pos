{
 "cells": [
  {
   "cell_type": "code",
   "execution_count": 1,
   "metadata": {},
   "outputs": [],
   "source": [
    "import torch\n",
    "from torch.autograd import Variable\n",
    "import torch.nn as nn\n",
    "import torch.nn.functional as F\n",
    "import torch.optim as optim"
   ]
  },
  {
   "cell_type": "code",
   "execution_count": 2,
   "metadata": {},
   "outputs": [
    {
     "name": "stdout",
     "output_type": "stream",
     "text": [
      "{'The': 0, 'dog': 1, 'are': 2, 'the': 3, 'apple': 4, 'Everybody': 5, 'read': 6, 'that': 7, 'book': 8}\n"
     ]
    }
   ],
   "source": [
    "def prepare_sequence(seq, to_ix):\n",
    "    idxs = [to_ix[w] for w in seq]\n",
    "    tensor = torch.LongTensor(idxs)\n",
    "    return Variable(tensor)\n",
    "\n",
    "training_data = [\n",
    "    (\"The dog are the apple\".split(), ['DET', 'NN', 'V', 'DET', 'NN']),\n",
    "    (\"Everybody read that book\".split(), ['NN', 'V', 'DET', 'NN'])\n",
    "]\n",
    "\n",
    "word_to_ix = {}\n",
    "for sent, tags in training_data:\n",
    "    for word in sent:\n",
    "        if word not in word_to_ix:\n",
    "            word_to_ix[word] = len(word_to_ix)\n",
    "print(word_to_ix)\n",
    "\n",
    "tag_to_ix = { 'DET' : 0, 'NN' : 1, 'V' : 2 }\n",
    "\n",
    "EMBEDDING_DIM = 6\n",
    "HIDDEN_DIM = 6"
   ]
  },
  {
   "cell_type": "code",
   "execution_count": 3,
   "metadata": {},
   "outputs": [
    {
     "name": "stdout",
     "output_type": "stream",
     "text": [
      "Variable containing:\n",
      "-1.4077 -0.7995 -1.1850\n",
      "-1.4793 -0.8146 -1.1105\n",
      "-1.4641 -0.8211 -1.1125\n",
      "-1.5262 -0.8029 -1.0948\n",
      "-1.4237 -0.8239 -1.1380\n",
      "[torch.FloatTensor of size 5x3]\n",
      "\n"
     ]
    }
   ],
   "source": [
    "# here we implement the LSTM POS Tagger with word level LSTM as well as _char_ level LSTM\n",
    "import string\n",
    "char_to_ix = \\\n",
    "    dict([(w, i) for i, w in enumerate(string.ascii_lowercase)] + \\\n",
    "         [(w, i) for i, w in enumerate(string.ascii_uppercase)])\n",
    "\n",
    "class BetterLSTMTagger(nn.Module):\n",
    "    # here we assume the embedding dimension size and hidden dimension size are the same \n",
    "    # for both char and word level LSTM. It is easy to extend this to a more general case.\n",
    "    def __init__(self, embedding_dim, hidden_dim, word_to_ix, char_to_ix, tag_to_ix):\n",
    "        super(BetterLSTMTagger, self).__init__()\n",
    "        self.hidden_dim = hidden_dim\n",
    "        self.char_embedding = nn.Embedding(len(char_to_ix), embedding_dim)\n",
    "        self.word_embedding = nn.Embedding(len(word_to_ix), embedding_dim)\n",
    "        self.char_lstm = nn.LSTM(embedding_dim, hidden_dim)\n",
    "        self.word_lstm = nn.LSTM(2 * embedding_dim, hidden_dim)\n",
    "        self.hidden2tag = nn.Linear(hidden_dim, len(tag_to_ix))\n",
    "        self.word_hidden = self.init_hidden()\n",
    "        self.char_hidden = self.init_hidden()\n",
    "        self.word_to_ix = word_to_ix\n",
    "        self.char_to_ix = char_to_ix\n",
    "    def init_hidden(self):\n",
    "        return [ Variable(torch.zeros(1, 1, self.hidden_dim)), Variable(torch.zeros(1, 1, self.hidden_dim)) ]\n",
    "    def prepare_word_inputs(self, sentence):\n",
    "        return prepare_sequence(sentence, self.word_to_ix)\n",
    "    def prepare_char_inputs(self, word):\n",
    "        return prepare_sequence(word, self.char_to_ix)\n",
    "    def forward_word(self, word):\n",
    "        self.char_hidden = self.init_hidden()\n",
    "        _, (output, _) = \\\n",
    "            self.char_lstm(\n",
    "                self.char_embedding(\n",
    "                    self.prepare_char_inputs(word)\n",
    "                ).view(len(word), 1, -1), self.char_hidden)\n",
    "        return output\n",
    "    def forward(self, sentence):\n",
    "        char_inputs = torch.cat([self.forward_word(word) for word in sentence], dim=0)\n",
    "        word_inputs = self.word_embedding(self.prepare_word_inputs(sentence)).view(len(sentence), 1, -1)\n",
    "        inputs = torch.cat([char_inputs, word_inputs], dim=2)\n",
    "        out, self.word_hidden = self.word_lstm(inputs, self.word_hidden)\n",
    "        tag_space = self.hidden2tag(out.view(len(sentence), -1))\n",
    "        tag_scores = F.log_softmax(tag_space, dim=1)\n",
    "        return tag_scores\n",
    "    \n",
    "tagger = BetterLSTMTagger(EMBEDDING_DIM, HIDDEN_DIM, word_to_ix, char_to_ix, tag_to_ix)\n",
    "tag_scores = tagger.forward(training_data[0][0])\n",
    "print(tag_scores)"
   ]
  },
  {
   "cell_type": "code",
   "execution_count": 4,
   "metadata": {},
   "outputs": [
    {
     "name": "stdout",
     "output_type": "stream",
     "text": [
      "Epoch [50/300], Loss 1.890\n",
      "Epoch [100/300], Loss 1.208\n",
      "Epoch [150/300], Loss 0.368\n",
      "Epoch [200/300], Loss 0.149\n",
      "Epoch [250/300], Loss 0.084\n",
      "Epoch [300/300], Loss 0.057\n"
     ]
    }
   ],
   "source": [
    "loss_function = nn.NLLLoss()\n",
    "optimizer = optim.SGD(tagger.parameters(), lr=0.1)\n",
    "\n",
    "for epoch in range(300):\n",
    "    loss_val = 0\n",
    "    for sentence, tags in training_data:\n",
    "        tagger.zero_grad()\n",
    "        tagger.word_hidden = tagger.init_hidden()\n",
    "        tag_scores = tagger(sentence)\n",
    "        targets = prepare_sequence(tags, tag_to_ix)\n",
    "        loss = loss_function(tag_scores, targets)\n",
    "        loss.backward()\n",
    "        optimizer.step()\n",
    "        loss_val += loss.data\n",
    "    if (epoch + 1) % 50 == 0:\n",
    "        print('Epoch [%d/%d], Loss %.3f' % (epoch + 1, 300, loss_val))"
   ]
  },
  {
   "cell_type": "code",
   "execution_count": 5,
   "metadata": {},
   "outputs": [
    {
     "name": "stdout",
     "output_type": "stream",
     "text": [
      "Variable containing:\n",
      "-0.0739 -2.7282 -5.1311\n",
      "-5.3814 -0.0099 -5.2579\n",
      "-3.8599 -3.6682 -0.0477\n",
      "-0.0342 -4.5396 -3.7739\n",
      "-4.5373 -0.0308 -3.9313\n",
      "[torch.FloatTensor of size 5x3]\n",
      "\n",
      "predicted tags\n",
      "['DET', 'NN', 'V', 'DET', 'NN']\n",
      "target tags\n",
      "['DET', 'NN', 'V', 'DET', 'NN']\n"
     ]
    }
   ],
   "source": [
    "from six import iteritems\n",
    "import numpy as np\n",
    "\n",
    "tag_scores = tagger(training_data[0][0])\n",
    "print(tag_scores)\n",
    "\n",
    "def reverse_lookup_seq(seq, to_ix):\n",
    "    def lookup(j): return next(w for w, i in iteritems(to_ix) if j == i)\n",
    "    return [lookup(w) for w in seq]\n",
    "print('predicted tags')\n",
    "# here shows a subtle yet big difference between pytorch and tensorflow\n",
    "# while every operation in tensorflow can be characterized by a Tensor in tf\n",
    "# pytorch only considers operations that is _differentiable__\n",
    "# since argmax is not differentiable (or you may say it is 0 everywhere, so not really useful)\n",
    "# pytorch does not offer an operation to do `argmax` directly\n",
    "print(reverse_lookup_seq(np.argmax(tag_scores.data, axis=1), tag_to_ix))\n",
    "print('target tags')\n",
    "print(training_data[0][-1])"
   ]
  },
  {
   "cell_type": "code",
   "execution_count": null,
   "metadata": {},
   "outputs": [],
   "source": []
  }
 ],
 "metadata": {
  "kernelspec": {
   "display_name": "Python 3",
   "language": "python",
   "name": "python3"
  },
  "language_info": {
   "codemirror_mode": {
    "name": "ipython",
    "version": 3
   },
   "file_extension": ".py",
   "mimetype": "text/x-python",
   "name": "python",
   "nbconvert_exporter": "python",
   "pygments_lexer": "ipython3",
   "version": "3.6.2"
  }
 },
 "nbformat": 4,
 "nbformat_minor": 2
}
